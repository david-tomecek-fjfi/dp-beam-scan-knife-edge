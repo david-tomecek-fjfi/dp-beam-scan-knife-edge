{
  "cells": [
    {
      "cell_type": "code",
      "execution_count": 1,
      "metadata": {},
      "outputs": [],
      "source": [
        "import matplotlib.pyplot as plt\n",
        "import numpy as np\n",
        "from typing import Tuple, Dict"
      ]
    },
    {
      "cell_type": "markdown",
      "metadata": {},
      "source": [
        "## Nahrej ze souboru data a vrať je"
      ]
    },
    {
      "cell_type": "code",
      "execution_count": 2,
      "metadata": {},
      "outputs": [],
      "source": [
        "def _extract_meta(file_name: str) -> Tuple[float, float, float]:\n",
        "    \"\"\"z=7.5cm_P0=10uW_PM=29.78mW -> z, P0, PM\"\"\"\n",
        "    return [float(e.split(\"=\")[1][:-2]) for e in file_name.split(\"_\")]\n",
        "\n",
        "def fetch(path: str) -> Dict:\n",
        "    x_arr = [] # v mm\n",
        "    P_arr = [] # v mW\n",
        "    z, P0, PM = _extract_meta(os.path.basename(path).strip(\".csv\")) # v cm, uW, mW\n",
        "    with open(path, \"r\") as f:\n",
        "        f.readline()\n",
        "        while line := f.readline():\n",
        "            x, P = [float(i) for i in line.split(\";\")]\n",
        "            x_arr.append(x) \n",
        "            P_arr.append(P)\n",
        "    return {\n",
        "        \"z\": z * 10, # cm -> mm\n",
        "        \"P0\": P0 *10**(-3), # uW -> mW\n",
        "        \"PM\": PM,\n",
        "        \"x\": x_arr,\n",
        "        \"P\": P_arr\n",
        "    } "
      ]
    },
    {
      "cell_type": "markdown",
      "metadata": {},
      "source": [
        "## Vypočti X0\n",
        "x0 je poloha při které jsme ve středu svazku. Tj výkon je přesně v polovině maxima!"
      ]
    },
    {
      "cell_type": "code",
      "execution_count": 3,
      "metadata": {},
      "outputs": [],
      "source": [
        "def linear_aprox(p1, p2, x1, x2, p_val) -> float:\n",
        "    a = (p1 - p2) / (x1 - x2)\n",
        "    b = p1 - a*x1\n",
        "    x_val = (p_val - b) / a\n",
        "    return x_val \n",
        "\n",
        "def get_x0(x: list, P: list, PM: float):\n",
        "    p_closest = min(P, key=lambda p: abs(p-PM/2))\n",
        "    i_bef = -1\n",
        "    if p_closest < PM/2:\n",
        "        i_bef = P.index(p_closest)\n",
        "    elif p_closest > PM/2:\n",
        "        i_bef = P.index(p_closest) - 1\n",
        "    else:\n",
        "        return x[P.index(p_closest)]\n",
        "    # from values around half power approximates x for half the power, hence the center of the beam\n",
        "    return linear_aprox(P[i_bef], P[i_bef + 1], x[i_bef], x[i_bef + 1], PM/2)"
      ]
    },
    {
      "cell_type": "code",
      "execution_count": 4,
      "metadata": {},
      "outputs": [
        {
          "name": "stdout",
          "output_type": "stream",
          "text": [
            "Sucesfully loaded 5 files, which goes followingly:\n",
            "z=75.0mm P0=0.01mW PM=29.78mW x0=4.526495726495726mm\n",
            "z=125.0mm P0=0.01mW PM=29.78mW x0=3.8720125786163524mm\n",
            "z=1238.0mm P0=0.05mW PM=25.65mW x0=4.206914893617021mm\n",
            "z=1338.0mm P0=0.05mW PM=25.65mW x0=5.185364208633093mm\n",
            "z=1488.0mm P0=0.03mW PM=25.4mW x0=4.532894736842104mm\n"
          ]
        }
      ],
      "source": [
        "import os \n",
        "DATA_DIRECTORY = r\"C:\\Users\\Student\\Desktop\\David Tomeček\\dp-beam-scan-knife-edge\\data\"\n",
        "INPUT_DATA = []\n",
        "for file in [f for f in os.listdir(DATA_DIRECTORY) if f.endswith(\".csv\")]:\n",
        "    data = fetch(os.path.join(DATA_DIRECTORY, file))\n",
        "    data[\"x0\"] = get_x0(data[\"x\"], data[\"P\"], data[\"PM\"])\n",
        "    INPUT_DATA.append(data)\n",
        "print(f\"Sucesfully loaded {len(INPUT_DATA)} files, which goes followingly:\")\n",
        "INPUT_DATA = sorted(INPUT_DATA, key=lambda x: x['z'])\n",
        "for data in INPUT_DATA:\n",
        "    print(f\"z={data['z']}mm P0={data['P0']}mW PM={data['PM']}mW x0={data['x0']}mm\")\n",
        "\n"
      ]
    },
    {
      "cell_type": "markdown",
      "metadata": {},
      "source": [
        "## Fitování dat na křivku výkonu\n",
        "Viz https://people.fjfi.cvut.cz/blazejos/public/ul7en.pdf\n",
        "$$\n",
        "    P = P_0 + \\frac{P_{max}}{2}(1 - erf(\\frac{\\sqrt{2}(x - x_0)}{w}))\n",
        "$$"
      ]
    },
    {
      "cell_type": "code",
      "execution_count": 5,
      "metadata": {},
      "outputs": [],
      "source": [
        "from scipy.optimize import curve_fit\n",
        "from scipy import special\n",
        "\n",
        "def power_fit_function(x: list, w: float, x0: float, P0: float, PM: float):\n",
        "    return P0 + (PM/2) * (1 + special.erf(np.sqrt(2) * (x - x0) / w))"
      ]
    },
    {
      "cell_type": "code",
      "execution_count": 9,
      "metadata": {},
      "outputs": [
        {
          "name": "stdout",
          "output_type": "stream",
          "text": [
            "z=75.0 w=0.9334513996205196\n"
          ]
        },
        {
          "data": {
            "image/png": "[encoded data removed]",
            "text/plain": [
              "<Figure size 432x288 with 1 Axes>"
            ]
          },
          "metadata": {
            "needs_background": "light"
          },
          "output_type": "display_data"
        },
        {
          "name": "stdout",
          "output_type": "stream",
          "text": [
            "z=125.0 w=0.821622713594677\n"
          ]
        },
        {
          "data": {
            "image/png": "[encoded data removed]",
            "text/plain": [
              "<Figure size 432x288 with 1 Axes>"
            ]
          },
          "metadata": {
            "needs_background": "light"
          },
          "output_type": "display_data"
        },
        {
          "name": "stdout",
          "output_type": "stream",
          "text": [
            "z=1238.0 w=0.646158316623103\n"
          ]
        },
        {
          "data": {
            "image/png": "[encoded data removed]",
            "text/plain": [
              "<Figure size 432x288 with 1 Axes>"
            ]
          },
          "metadata": {
            "needs_background": "light"
          },
          "output_type": "display_data"
        },
        {
          "name": "stdout",
          "output_type": "stream",
          "text": [
            "z=1338.0 w=0.6849434038850972\n"
          ]
        },
        {
          "data": {
            "image/png": "[encoded data removed]",
            "text/plain": [
              "<Figure size 432x288 with 1 Axes>"
            ]
          },
          "metadata": {
            "needs_background": "light"
          },
          "output_type": "display_data"
        },
        {
          "name": "stdout",
          "output_type": "stream",
          "text": [
            "z=1488.0 w=0.9206926105065839\n"
          ]
        },
        {
          "data": {
            "image/png": "[encoded data removed]",
            "text/plain": [
              "<Figure size 432x288 with 1 Axes>"
            ]
          },
          "metadata": {
            "needs_background": "light"
          },
          "output_type": "display_data"
        }
      ],
      "source": [
        "w_arr = []\n",
        "for data in INPUT_DATA:\n",
        "    fit_func = lambda x, w, x0: power_fit_function(x, w, x0=x0, P0=data[\"P0\"], PM=data[\"PM\"])\n",
        "    popt, _ = curve_fit(fit_func, data[\"x\"], data[\"P\"], p0 = [0.9, 4.5])\n",
        "    w, x0 = popt\n",
        "    print(f\"z={data['z']} w={w}\")\n",
        "    w_arr.append(w)\n",
        "    plt.plot(data[\"x\"], [fit_func(x, w, x0) for x in data[\"x\"]], \"-\")\n",
        "    plt.plot(data[\"x\"], data[\"P\"], \".\")\n",
        "    plt.show()\n",
        "\n",
        "w_arr = np.array(w_arr)"
      ]
    },
    {
      "cell_type": "markdown",
      "metadata": {},
      "source": [
        "## Vývoj poloměru svzaku při propagaci"
      ]
    },
    {
      "cell_type": "markdown",
      "metadata": {},
      "source": [
        "Jelikož první dvě měření relativně dobře odpovídají teorii, tak budu počítat s nimi (není ideálí, ale v tuto chvíli nic lepšího nemám (??))"
      ]
    },
    {
      "cell_type": "code",
      "execution_count": 11,
      "metadata": {},
      "outputs": [],
      "source": [
        "def beam_radius(z, w0, w_loc, WL):\n",
        "    zr = np.pi * w0**2 * 1 / WL\n",
        "    return w0 * np.sqrt(1 + ((z - w_loc) / zr)**2)"
      ]
    },
    {
      "cell_type": "code",
      "execution_count": 13,
      "metadata": {},
      "outputs": [
        {
          "data": {
            "image/png": "[encoded data removed]",
            "text/plain": [
              "<Figure size 432x288 with 1 Axes>"
            ]
          },
          "metadata": {
            "needs_background": "light"
          },
          "output_type": "display_data"
        }
      ],
      "source": [
        "WL = 405e-6\n",
        "z_arr = [i[\"z\"] for i in INPUT_DATA]\n",
        "fit_func = lambda z, w0, w_loc: beam_radius(z, w0, w_loc, WL)\n",
        "popt, _ = curve_fit(fit_func, z_arr, w_arr)\n",
        "w0, w_loc = popt\n",
        "\n",
        "z_arr_fit = np.linspace(0,1400)\n",
        "\n",
        "zr_mm = (np.pi * w0**2 * 1 / WL)\n",
        "plt.plot(z_arr_fit, fit_func(z_arr_fit, w0, w_loc))\n",
        "plt.plot(z_arr, w_arr, \"p\")\n",
        "plt.show()\n",
        "\n",
        "\n"
      ]
    },
    {
      "cell_type": "markdown",
      "metadata": {},
      "source": [
        "## Hledání optimální polohy čočky \n",
        "\n",
        "Mám funkci $f: d \\rightarrow [w, z_w]$, který mi polohu čočky $d$ zobrazí na velikost krčku $w$ a polohu krčku $z_w$. Pro fitování definuji funkci\n",
        "    $$\n",
        "    F(d, w_{opt}, z_{opt}) \\equiv ||f(d) - [w_{opt}, z_{w, opt}]||^2 \\\\\n",
        "    d \\geq 0 \\\\\n",
        "    |w_{opt} - W_{beninkt, opt}| \\leq TOLERANCE \\\\\n",
        "    z_{w, opt} \\geq 0\n",
        "    $$"
      ]
    },
    {
      "cell_type": "code",
      "execution_count": 32,
      "metadata": {},
      "outputs": [
        {
          "name": "stdout",
          "output_type": "stream",
          "text": [
            "     fun: 1.3979581337611044e-09\n",
            "     jac: array([-1.78748287e-06, -7.47419779e-05,  1.81533806e-06])\n",
            " message: 'Optimization terminated successfully'\n",
            "    nfev: 9\n",
            "     nit: 2\n",
            "    njev: 2\n",
            "  status: 0\n",
            " success: True\n",
            "       x: array([3.63164437e-02, 1.91197767e-05, 4.16568032e-01])\n"
          ]
        }
      ],
      "source": [
        "from optix.beams import GaussianBeam\n",
        "from optix.optical_system import OpticalPath\n",
        "from optix.ABCDformalism import *\n",
        "gb = GaussianBeam(405e-9, waist_location=w_loc*10**(-3), zr=zr_mm * 10**(-3))\n",
        "OPTIMUM_WAIST_RADIUS = 17.751421063770742e-6\n",
        "\n",
        "def fit_function(d: float, f: float, gb: GaussianBeam) -> float:\n",
        "    op = OpticalPath()\n",
        "    op.append(FreeSpace(d))\n",
        "    op.append(ThinLens(f))\n",
        "    output = op.propagate(gb)\n",
        "    return np.array([output.waist_radius, output.waist_location])\n",
        "\n",
        "\n",
        "fit_func = lambda params: np.linalg.norm(fit_function(params[0], 400e-3, gb) - np.array([params[1], params[2]]))**2\n",
        "\n",
        "from scipy.optimize import minimize\n",
        "cons = ({\n",
        "    'type': 'ineq',\n",
        "    'fun': lambda params: params[0]\n",
        "},\n",
        "{\n",
        "    'type': 'ineq',\n",
        "    'fun': lambda params: 5e-6 - abs(params[1] - OPTIMUM_WAIST_RADIUS)\n",
        "},\n",
        "{\n",
        "    'type': 'ineq',\n",
        "    'fun': lambda params: params[2]\n",
        "})\n",
        "\n",
        "\n",
        "\n",
        "result = minimize(fit_func, [5e-2,OPTIMUM_WAIST_RADIUS, 40e-2], constraints=cons)\n",
        "print(result)\n",
        "\n",
        "\n",
        "\n",
        "\n"
      ]
    },
    {
      "cell_type": "code",
      "execution_count": 33,
      "metadata": {},
      "outputs": [
        {
          "name": "stdout",
          "output_type": "stream",
          "text": [
            "\n",
            "        amplitude\t=\t1,\n",
            "        wavelength\t=\t405.0 nm,\n",
            "        waist_loc\t=\t41.655066516759874 cm,\n",
            "        waist_rad\t=\t0.056498101532951366 mm,\n",
            "        rayleigh_r\t=\t24.760679516048977 mm,\n",
            "        divergence\t=\t2.281767004670907 mrad\n",
            "        \n"
          ]
        }
      ],
      "source": [
        "f = 400e-3\n",
        "d = 3.63e-2\n",
        "\n",
        "op = OpticalPath()\n",
        "op.append(FreeSpace(d))\n",
        "op.append(ThinLens(f))\n",
        "output = op.propagate(gb)\n",
        "print(output)\n",
        "\n",
        "z = np.linspace(0, 1, 1000)\n",
        "w = output.beam_radius(z)\n",
        "\n",
        "plt.plot(z, w)\n"
      ]
    }
  ],
  "metadata": {
    "interpreter": {
      "hash": "e5980f02bcde9b402de918081ae6e45faf14de8e059e9dbbff0553d1588090bf"
    },
    "kernelspec": {
      "display_name": "Python 3.9.0 ('env': venv)",
      "language": "python",
      "name": "python3"
    },
    "language_info": {
      "codemirror_mode": {
        "name": "ipython",
        "version": 3
      },
      "file_extension": ".py",
      "mimetype": "text/x-python",
      "name": "python",
      "nbconvert_exporter": "python",
      "pygments_lexer": "ipython3",
      "version": "3.10.2"
    },
    "orig_nbformat": 4
  },
  "nbformat": 4,
  "nbformat_minor": 2
}
